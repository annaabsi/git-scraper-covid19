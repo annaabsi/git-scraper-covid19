{
 "cells": [
  {
   "cell_type": "code",
   "execution_count": 2,
   "id": "permanent-gauge",
   "metadata": {
    "tags": []
   },
   "outputs": [
    {
     "output_type": "execute_result",
     "data": {
      "text/plain": [
       "   FECHA_CORTE FECHA_FALLECIMIENTO  EDAD_DECLARADA       SEXO DEPARTAMENTO\n",
       "0     20210522          2021-05-22              77  MASCULINO         LIMA\n",
       "1     20210522          2021-05-22              70  MASCULINO         LIMA\n",
       "2     20210522          2021-05-22              84   FEMENINO         LIMA\n",
       "3     20210522          2021-05-22              61   FEMENINO         LIMA\n",
       "4     20210522          2021-05-22              93  MASCULINO         LIMA"
      ],
      "text/html": "<div>\n<style scoped>\n    .dataframe tbody tr th:only-of-type {\n        vertical-align: middle;\n    }\n\n    .dataframe tbody tr th {\n        vertical-align: top;\n    }\n\n    .dataframe thead th {\n        text-align: right;\n    }\n</style>\n<table border=\"1\" class=\"dataframe\">\n  <thead>\n    <tr style=\"text-align: right;\">\n      <th></th>\n      <th>FECHA_CORTE</th>\n      <th>FECHA_FALLECIMIENTO</th>\n      <th>EDAD_DECLARADA</th>\n      <th>SEXO</th>\n      <th>DEPARTAMENTO</th>\n    </tr>\n  </thead>\n  <tbody>\n    <tr>\n      <th>0</th>\n      <td>20210522</td>\n      <td>2021-05-22</td>\n      <td>77</td>\n      <td>MASCULINO</td>\n      <td>LIMA</td>\n    </tr>\n    <tr>\n      <th>1</th>\n      <td>20210522</td>\n      <td>2021-05-22</td>\n      <td>70</td>\n      <td>MASCULINO</td>\n      <td>LIMA</td>\n    </tr>\n    <tr>\n      <th>2</th>\n      <td>20210522</td>\n      <td>2021-05-22</td>\n      <td>84</td>\n      <td>FEMENINO</td>\n      <td>LIMA</td>\n    </tr>\n    <tr>\n      <th>3</th>\n      <td>20210522</td>\n      <td>2021-05-22</td>\n      <td>61</td>\n      <td>FEMENINO</td>\n      <td>LIMA</td>\n    </tr>\n    <tr>\n      <th>4</th>\n      <td>20210522</td>\n      <td>2021-05-22</td>\n      <td>93</td>\n      <td>MASCULINO</td>\n      <td>LIMA</td>\n    </tr>\n  </tbody>\n</table>\n</div>"
     },
     "metadata": {},
     "execution_count": 2
    }
   ],
   "source": [
    "import pandas as pd\n",
    "#df=pd.read_csv('https://cloud.minsa.gob.pe/s/Md37cjXmjT9qYSa/download', sep=';', usecols=['FECHA_CORTE', 'EDAD_DECLARADA', 'SEXO', 'FECHA_FALLECIMIENTO', 'DEPARTAMENTO'], parse_dates=['FECHA_FALLECIMIENTO'])\n",
    "df=pd.read_csv('fallecidos_covid.csv', sep=';', usecols=['FECHA_CORTE', 'EDAD_DECLARADA', 'SEXO', 'FECHA_FALLECIMIENTO', 'DEPARTAMENTO'], parse_dates=['FECHA_FALLECIMIENTO'])\n",
    "fecha_corte=df['FECHA_CORTE'].drop_duplicates().set_axis(['fecha_corte'])\n",
    "fecha_corte.to_json(\"../resultados/fecha_corte_fallecidos.json\")"
   ]
  },
  {
   "cell_type": "code",
   "execution_count": 7,
   "metadata": {},
   "outputs": [
    {
     "output_type": "execute_result",
     "data": {
      "text/plain": [
       "                     FEMENINO  MASCULINO\n",
       "FECHA_FALLECIMIENTO                     \n",
       "2020-03-18                  0          3\n",
       "2020-03-19                  0          3\n",
       "2020-03-20                  1          1\n",
       "2020-03-21                  0          2\n",
       "2020-03-22                  1          3\n",
       "...                       ...        ...\n",
       "2021-05-18                 87        177\n",
       "2021-05-19                 81        138\n",
       "2021-05-20                114        202\n",
       "2021-05-21                 92        146\n",
       "2021-05-22                 96        150\n",
       "\n",
       "[431 rows x 2 columns]"
      ],
      "text/html": "<div>\n<style scoped>\n    .dataframe tbody tr th:only-of-type {\n        vertical-align: middle;\n    }\n\n    .dataframe tbody tr th {\n        vertical-align: top;\n    }\n\n    .dataframe thead th {\n        text-align: right;\n    }\n</style>\n<table border=\"1\" class=\"dataframe\">\n  <thead>\n    <tr style=\"text-align: right;\">\n      <th></th>\n      <th>FEMENINO</th>\n      <th>MASCULINO</th>\n    </tr>\n    <tr>\n      <th>FECHA_FALLECIMIENTO</th>\n      <th></th>\n      <th></th>\n    </tr>\n  </thead>\n  <tbody>\n    <tr>\n      <th>2020-03-18</th>\n      <td>0</td>\n      <td>3</td>\n    </tr>\n    <tr>\n      <th>2020-03-19</th>\n      <td>0</td>\n      <td>3</td>\n    </tr>\n    <tr>\n      <th>2020-03-20</th>\n      <td>1</td>\n      <td>1</td>\n    </tr>\n    <tr>\n      <th>2020-03-21</th>\n      <td>0</td>\n      <td>2</td>\n    </tr>\n    <tr>\n      <th>2020-03-22</th>\n      <td>1</td>\n      <td>3</td>\n    </tr>\n    <tr>\n      <th>...</th>\n      <td>...</td>\n      <td>...</td>\n    </tr>\n    <tr>\n      <th>2021-05-18</th>\n      <td>87</td>\n      <td>177</td>\n    </tr>\n    <tr>\n      <th>2021-05-19</th>\n      <td>81</td>\n      <td>138</td>\n    </tr>\n    <tr>\n      <th>2021-05-20</th>\n      <td>114</td>\n      <td>202</td>\n    </tr>\n    <tr>\n      <th>2021-05-21</th>\n      <td>92</td>\n      <td>146</td>\n    </tr>\n    <tr>\n      <th>2021-05-22</th>\n      <td>96</td>\n      <td>150</td>\n    </tr>\n  </tbody>\n</table>\n<p>431 rows × 2 columns</p>\n</div>"
     },
     "metadata": {},
     "execution_count": 7
    }
   ],
   "source": [
    "# DIARIO FALLECIDOS\n",
    "df_fallecidos=df[['FECHA_FALLECIMIENTO','SEXO', 'EDAD_DECLARADA']].groupby(['FECHA_FALLECIMIENTO', 'SEXO']).count()\n",
    "df_fallecidos=df_fallecidos.reset_index()\n",
    "df_fallecidos=df_fallecidos.pivot(index='FECHA_FALLECIMIENTO', columns='SEXO', values='EDAD_DECLARADA')\n",
    "df_fallecidos=df_fallecidos.rename_axis(None, axis=1)\n",
    "df_fallecidos=df_fallecidos.fillna(0).astype('int')\n",
    "df_fallecidos"
   ]
  },
  {
   "cell_type": "code",
   "execution_count": 8,
   "metadata": {},
   "outputs": [
    {
     "output_type": "execute_result",
     "data": {
      "text/plain": [
       "                     FEMENINO  MASCULINO\n",
       "FECHA_FALLECIMIENTO                     \n",
       "2020-03-18                  0          3\n",
       "2020-03-19                  0          6\n",
       "2020-03-20                  1          7\n",
       "2020-03-21                  1          9\n",
       "2020-03-22                  2         12\n",
       "...                       ...        ...\n",
       "2021-05-18              22855      44179\n",
       "2021-05-19              22936      44317\n",
       "2021-05-20              23050      44519\n",
       "2021-05-21              23142      44665\n",
       "2021-05-22              23238      44815\n",
       "\n",
       "[431 rows x 2 columns]"
      ],
      "text/html": "<div>\n<style scoped>\n    .dataframe tbody tr th:only-of-type {\n        vertical-align: middle;\n    }\n\n    .dataframe tbody tr th {\n        vertical-align: top;\n    }\n\n    .dataframe thead th {\n        text-align: right;\n    }\n</style>\n<table border=\"1\" class=\"dataframe\">\n  <thead>\n    <tr style=\"text-align: right;\">\n      <th></th>\n      <th>FEMENINO</th>\n      <th>MASCULINO</th>\n    </tr>\n    <tr>\n      <th>FECHA_FALLECIMIENTO</th>\n      <th></th>\n      <th></th>\n    </tr>\n  </thead>\n  <tbody>\n    <tr>\n      <th>2020-03-18</th>\n      <td>0</td>\n      <td>3</td>\n    </tr>\n    <tr>\n      <th>2020-03-19</th>\n      <td>0</td>\n      <td>6</td>\n    </tr>\n    <tr>\n      <th>2020-03-20</th>\n      <td>1</td>\n      <td>7</td>\n    </tr>\n    <tr>\n      <th>2020-03-21</th>\n      <td>1</td>\n      <td>9</td>\n    </tr>\n    <tr>\n      <th>2020-03-22</th>\n      <td>2</td>\n      <td>12</td>\n    </tr>\n    <tr>\n      <th>...</th>\n      <td>...</td>\n      <td>...</td>\n    </tr>\n    <tr>\n      <th>2021-05-18</th>\n      <td>22855</td>\n      <td>44179</td>\n    </tr>\n    <tr>\n      <th>2021-05-19</th>\n      <td>22936</td>\n      <td>44317</td>\n    </tr>\n    <tr>\n      <th>2021-05-20</th>\n      <td>23050</td>\n      <td>44519</td>\n    </tr>\n    <tr>\n      <th>2021-05-21</th>\n      <td>23142</td>\n      <td>44665</td>\n    </tr>\n    <tr>\n      <th>2021-05-22</th>\n      <td>23238</td>\n      <td>44815</td>\n    </tr>\n  </tbody>\n</table>\n<p>431 rows × 2 columns</p>\n</div>"
     },
     "metadata": {},
     "execution_count": 8
    }
   ],
   "source": [
    "# ACUMULADO FALLECIDOS\n",
    "df_fallecidos_cum=df_fallecidos.cumsum()\n",
    "df_fallecidos_cum"
   ]
  },
  {
   "cell_type": "code",
   "execution_count": 9,
   "metadata": {},
   "outputs": [
    {
     "output_type": "execute_result",
     "data": {
      "text/plain": [
       "SEXO           FEMENINO  MASCULINO\n",
       "DEPARTAMENTO                      \n",
       "AMAZONAS            161        353\n",
       "ANCASH             1060       1922\n",
       "APURIMAC            224        382\n",
       "AREQUIPA           1015       1801\n",
       "AYACUCHO            278        555\n",
       "CAJAMARCA           522        945\n",
       "CALLAO             1223       2201\n",
       "CUSCO               525        869\n",
       "HUANCAVELICA        158        270\n",
       "HUANUCO             406        659\n",
       "ICA                1080       1952\n",
       "JUNIN               847       1673\n",
       "LA LIBERTAD        1424       2721\n",
       "LAMBAYEQUE          909       1832\n",
       "LIMA               9735      19688\n",
       "LORETO              460        950\n",
       "MADRE DE DIOS        72        168\n",
       "MOQUEGUA            207        380\n",
       "PASCO               166        263\n",
       "PIURA              1189       2104\n",
       "PUNO                331        658\n",
       "SAN MARTIN          439        874\n",
       "TACNA               263        549\n",
       "TUMBES              203        397\n",
       "UCAYALI             341        649"
      ],
      "text/html": "<div>\n<style scoped>\n    .dataframe tbody tr th:only-of-type {\n        vertical-align: middle;\n    }\n\n    .dataframe tbody tr th {\n        vertical-align: top;\n    }\n\n    .dataframe thead th {\n        text-align: right;\n    }\n</style>\n<table border=\"1\" class=\"dataframe\">\n  <thead>\n    <tr style=\"text-align: right;\">\n      <th>SEXO</th>\n      <th>FEMENINO</th>\n      <th>MASCULINO</th>\n    </tr>\n    <tr>\n      <th>DEPARTAMENTO</th>\n      <th></th>\n      <th></th>\n    </tr>\n  </thead>\n  <tbody>\n    <tr>\n      <th>AMAZONAS</th>\n      <td>161</td>\n      <td>353</td>\n    </tr>\n    <tr>\n      <th>ANCASH</th>\n      <td>1060</td>\n      <td>1922</td>\n    </tr>\n    <tr>\n      <th>APURIMAC</th>\n      <td>224</td>\n      <td>382</td>\n    </tr>\n    <tr>\n      <th>AREQUIPA</th>\n      <td>1015</td>\n      <td>1801</td>\n    </tr>\n    <tr>\n      <th>AYACUCHO</th>\n      <td>278</td>\n      <td>555</td>\n    </tr>\n    <tr>\n      <th>CAJAMARCA</th>\n      <td>522</td>\n      <td>945</td>\n    </tr>\n    <tr>\n      <th>CALLAO</th>\n      <td>1223</td>\n      <td>2201</td>\n    </tr>\n    <tr>\n      <th>CUSCO</th>\n      <td>525</td>\n      <td>869</td>\n    </tr>\n    <tr>\n      <th>HUANCAVELICA</th>\n      <td>158</td>\n      <td>270</td>\n    </tr>\n    <tr>\n      <th>HUANUCO</th>\n      <td>406</td>\n      <td>659</td>\n    </tr>\n    <tr>\n      <th>ICA</th>\n      <td>1080</td>\n      <td>1952</td>\n    </tr>\n    <tr>\n      <th>JUNIN</th>\n      <td>847</td>\n      <td>1673</td>\n    </tr>\n    <tr>\n      <th>LA LIBERTAD</th>\n      <td>1424</td>\n      <td>2721</td>\n    </tr>\n    <tr>\n      <th>LAMBAYEQUE</th>\n      <td>909</td>\n      <td>1832</td>\n    </tr>\n    <tr>\n      <th>LIMA</th>\n      <td>9735</td>\n      <td>19688</td>\n    </tr>\n    <tr>\n      <th>LORETO</th>\n      <td>460</td>\n      <td>950</td>\n    </tr>\n    <tr>\n      <th>MADRE DE DIOS</th>\n      <td>72</td>\n      <td>168</td>\n    </tr>\n    <tr>\n      <th>MOQUEGUA</th>\n      <td>207</td>\n      <td>380</td>\n    </tr>\n    <tr>\n      <th>PASCO</th>\n      <td>166</td>\n      <td>263</td>\n    </tr>\n    <tr>\n      <th>PIURA</th>\n      <td>1189</td>\n      <td>2104</td>\n    </tr>\n    <tr>\n      <th>PUNO</th>\n      <td>331</td>\n      <td>658</td>\n    </tr>\n    <tr>\n      <th>SAN MARTIN</th>\n      <td>439</td>\n      <td>874</td>\n    </tr>\n    <tr>\n      <th>TACNA</th>\n      <td>263</td>\n      <td>549</td>\n    </tr>\n    <tr>\n      <th>TUMBES</th>\n      <td>203</td>\n      <td>397</td>\n    </tr>\n    <tr>\n      <th>UCAYALI</th>\n      <td>341</td>\n      <td>649</td>\n    </tr>\n  </tbody>\n</table>\n</div>"
     },
     "metadata": {},
     "execution_count": 9
    }
   ],
   "source": [
    "# ACUMULADO POR DEPARTAMENTO\n",
    "df_fallecidos_departamento=df[['DEPARTAMENTO','SEXO','EDAD_DECLARADA']].groupby(['DEPARTAMENTO', 'SEXO']).count()\n",
    "df_fallecidos_departamento=df_fallecidos_departamento.reset_index()\n",
    "df_fallecidos_departamento=df_fallecidos_departamento.pivot(index='DEPARTAMENTO', columns='SEXO', values='EDAD_DECLARADA')\n",
    "df_fallecidos_departamento"
   ]
  },
  {
   "cell_type": "code",
   "execution_count": 12,
   "metadata": {},
   "outputs": [
    {
     "output_type": "execute_result",
     "data": {
      "text/plain": [
       "               FALLECIDOS  POBLACION  PORCENTAJE\n",
       "GRUPO_ETARIO                                    \n",
       "18 a 19 años           55     900000        0.01\n",
       "20 a 29 años          741    5700000        0.01\n",
       "30 a 39 años         2264    5300000        0.04\n",
       "40 a 49 años         5845    4400000        0.13\n",
       "50 a 59 años        11999    3300000        0.36\n",
       "60 a 69 años        18048    2300000        0.78\n",
       "70 a 79 años        16362    1300000        1.26\n",
       "80 años a más       12347     700000        1.76"
      ],
      "text/html": "<div>\n<style scoped>\n    .dataframe tbody tr th:only-of-type {\n        vertical-align: middle;\n    }\n\n    .dataframe tbody tr th {\n        vertical-align: top;\n    }\n\n    .dataframe thead th {\n        text-align: right;\n    }\n</style>\n<table border=\"1\" class=\"dataframe\">\n  <thead>\n    <tr style=\"text-align: right;\">\n      <th></th>\n      <th>FALLECIDOS</th>\n      <th>POBLACION</th>\n      <th>PORCENTAJE</th>\n    </tr>\n    <tr>\n      <th>GRUPO_ETARIO</th>\n      <th></th>\n      <th></th>\n      <th></th>\n    </tr>\n  </thead>\n  <tbody>\n    <tr>\n      <th>18 a 19 años</th>\n      <td>55</td>\n      <td>900000</td>\n      <td>0.01</td>\n    </tr>\n    <tr>\n      <th>20 a 29 años</th>\n      <td>741</td>\n      <td>5700000</td>\n      <td>0.01</td>\n    </tr>\n    <tr>\n      <th>30 a 39 años</th>\n      <td>2264</td>\n      <td>5300000</td>\n      <td>0.04</td>\n    </tr>\n    <tr>\n      <th>40 a 49 años</th>\n      <td>5845</td>\n      <td>4400000</td>\n      <td>0.13</td>\n    </tr>\n    <tr>\n      <th>50 a 59 años</th>\n      <td>11999</td>\n      <td>3300000</td>\n      <td>0.36</td>\n    </tr>\n    <tr>\n      <th>60 a 69 años</th>\n      <td>18048</td>\n      <td>2300000</td>\n      <td>0.78</td>\n    </tr>\n    <tr>\n      <th>70 a 79 años</th>\n      <td>16362</td>\n      <td>1300000</td>\n      <td>1.26</td>\n    </tr>\n    <tr>\n      <th>80 años a más</th>\n      <td>12347</td>\n      <td>700000</td>\n      <td>1.76</td>\n    </tr>\n  </tbody>\n</table>\n</div>"
     },
     "metadata": {},
     "execution_count": 12
    }
   ],
   "source": [
    "# ACUMULADO POR GRUPO ETARIO\n",
    "bins = [18,20,30,40,50,60,70,80,df['EDAD_DECLARADA'].max()+1]\n",
    "labels = ['18 a 19 años','20 a 29 años','30 a 39 años','40 a 49 años','50 a 59 años','60 a 69 años','70 a 79 años','80 años a más']\n",
    "poblacion_por_grupo_etario = [900000,5700000,5300000,4400000,3300000,2300000,1300000,700000] \n",
    "df_fallecidos_edades = df\n",
    "df_fallecidos_edades['GRUPO_ETARIO'] = pd.cut(df['EDAD_DECLARADA'], bins=bins, labels=labels, right=False)\n",
    "df_fallecidos_edades = df_fallecidos_edades.groupby(['GRUPO_ETARIO'])[\"SEXO\"].count().reset_index()\n",
    "df_fallecidos_edades.rename(columns = {'SEXO':'FALLECIDOS'}, inplace = True)\n",
    "df_fallecidos_edades['POBLACION']=poblacion_por_grupo_etario\n",
    "df_fallecidos_edades['PORCENTAJE']=round(df_fallecidos_edades['FALLECIDOS']/df_fallecidos_edades['POBLACION']*100,2)\n",
    "df_fallecidos_edades=df_fallecidos_edades.set_index('GRUPO_ETARIO')\n",
    "df_fallecidos_edades"
   ]
  },
  {
   "cell_type": "code",
   "execution_count": 7,
   "metadata": {},
   "outputs": [],
   "source": [
    "df_fallecidos.to_csv('../resultados/fallecidos_diarios.csv')\n",
    "df_fallecidos_cum.to_csv('../resultados/fallecidos_acumulados.csv')\n",
    "df_fallecidos_departamento.to_csv('../resultados/fallecidos_por_departamentos.csv')\n",
    "df_fallecidos_edades.to_csv('../resultados/fallecidos_por_edades.csv')"
   ]
  }
 ],
 "metadata": {
  "kernelspec": {
   "name": "python3",
   "display_name": "Python 3",
   "language": "python"
  },
  "language_info": {
   "codemirror_mode": {
    "name": "ipython",
    "version": 3
   },
   "file_extension": ".py",
   "mimetype": "text/x-python",
   "name": "python",
   "nbconvert_exporter": "python",
   "pygments_lexer": "ipython3",
   "version": "3.8.5"
  },
  "metadata": {
   "interpreter": {
    "hash": "0adcc2737ebf6a4a119f135174df96668767fca1ef1112612db5ecadf2b6d608"
   }
  }
 },
 "nbformat": 4,
 "nbformat_minor": 5
}