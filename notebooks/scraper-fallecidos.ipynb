{
 "cells": [
  {
   "cell_type": "code",
   "execution_count": 1,
   "id": "permanent-gauge",
   "metadata": {
    "tags": []
   },
   "outputs": [],
   "source": [
    "import pandas as pd\n",
    "#df=pd.read_csv('https://cloud.minsa.gob.pe/s/Md37cjXmjT9qYSa/download', sep=';', usecols=['FECHA_CORTE', 'EDAD_DECLARADA', 'SEXO', 'FECHA_FALLECIMIENTO', 'DEPARTAMENTO'], parse_dates=['FECHA_FALLECIMIENTO'])\n",
    "df=pd.read_csv('fallecidos_covid.csv', sep=';', usecols=['FECHA_CORTE', 'EDAD_DECLARADA', 'SEXO', 'FECHA_FALLECIMIENTO', 'DEPARTAMENTO'], parse_dates=['FECHA_FALLECIMIENTO'])\n",
    "fecha_corte=df['FECHA_CORTE'].drop_duplicates().set_axis(['fecha_corte'])\n",
    "fecha_corte.to_json(\"../resultados/fecha_corte_fallecidos.json\")"
   ]
  },
  {
   "cell_type": "code",
   "execution_count": 2,
   "metadata": {},
   "outputs": [
    {
     "output_type": "execute_result",
     "data": {
      "text/plain": [
       "                     FEMENINO  MASCULINO\n",
       "FECHA_FALLECIMIENTO                     \n",
       "2020-03-18                  0          3\n",
       "2020-03-19                  0          3\n",
       "2020-03-20                  1          1\n",
       "2020-03-21                  0          2\n",
       "2020-03-22                  1          3\n",
       "...                       ...        ...\n",
       "2021-05-18                 87        177\n",
       "2021-05-19                 81        138\n",
       "2021-05-20                114        202\n",
       "2021-05-21                 92        146\n",
       "2021-05-22                 96        150\n",
       "\n",
       "[431 rows x 2 columns]"
      ],
      "text/html": "<div>\n<style scoped>\n    .dataframe tbody tr th:only-of-type {\n        vertical-align: middle;\n    }\n\n    .dataframe tbody tr th {\n        vertical-align: top;\n    }\n\n    .dataframe thead th {\n        text-align: right;\n    }\n</style>\n<table border=\"1\" class=\"dataframe\">\n  <thead>\n    <tr style=\"text-align: right;\">\n      <th></th>\n      <th>FEMENINO</th>\n      <th>MASCULINO</th>\n    </tr>\n    <tr>\n      <th>FECHA_FALLECIMIENTO</th>\n      <th></th>\n      <th></th>\n    </tr>\n  </thead>\n  <tbody>\n    <tr>\n      <th>2020-03-18</th>\n      <td>0</td>\n      <td>3</td>\n    </tr>\n    <tr>\n      <th>2020-03-19</th>\n      <td>0</td>\n      <td>3</td>\n    </tr>\n    <tr>\n      <th>2020-03-20</th>\n      <td>1</td>\n      <td>1</td>\n    </tr>\n    <tr>\n      <th>2020-03-21</th>\n      <td>0</td>\n      <td>2</td>\n    </tr>\n    <tr>\n      <th>2020-03-22</th>\n      <td>1</td>\n      <td>3</td>\n    </tr>\n    <tr>\n      <th>...</th>\n      <td>...</td>\n      <td>...</td>\n    </tr>\n    <tr>\n      <th>2021-05-18</th>\n      <td>87</td>\n      <td>177</td>\n    </tr>\n    <tr>\n      <th>2021-05-19</th>\n      <td>81</td>\n      <td>138</td>\n    </tr>\n    <tr>\n      <th>2021-05-20</th>\n      <td>114</td>\n      <td>202</td>\n    </tr>\n    <tr>\n      <th>2021-05-21</th>\n      <td>92</td>\n      <td>146</td>\n    </tr>\n    <tr>\n      <th>2021-05-22</th>\n      <td>96</td>\n      <td>150</td>\n    </tr>\n  </tbody>\n</table>\n<p>431 rows × 2 columns</p>\n</div>"
     },
     "metadata": {},
     "execution_count": 2
    }
   ],
   "source": [
    "# DIARIO FALLECIDOS\n",
    "df_fallecidos=df[['FECHA_FALLECIMIENTO','SEXO', 'EDAD_DECLARADA']].groupby(['FECHA_FALLECIMIENTO', 'SEXO']).count()\n",
    "df_fallecidos=df_fallecidos.reset_index()\n",
    "df_fallecidos=df_fallecidos.pivot(index='FECHA_FALLECIMIENTO', columns='SEXO', values='EDAD_DECLARADA')\n",
    "df_fallecidos=df_fallecidos.rename_axis(None, axis=1)\n",
    "df_fallecidos=df_fallecidos.fillna(0).astype('int')\n",
    "df_fallecidos"
   ]
  },
  {
   "cell_type": "code",
   "execution_count": 3,
   "metadata": {},
   "outputs": [
    {
     "output_type": "execute_result",
     "data": {
      "text/plain": [
       "                     FEMENINO  MASCULINO\n",
       "FECHA_FALLECIMIENTO                     \n",
       "2020-03-18                  0          3\n",
       "2020-03-19                  0          6\n",
       "2020-03-20                  1          7\n",
       "2020-03-21                  1          9\n",
       "2020-03-22                  2         12\n",
       "...                       ...        ...\n",
       "2021-05-18              22855      44179\n",
       "2021-05-19              22936      44317\n",
       "2021-05-20              23050      44519\n",
       "2021-05-21              23142      44665\n",
       "2021-05-22              23238      44815\n",
       "\n",
       "[431 rows x 2 columns]"
      ],
      "text/html": "<div>\n<style scoped>\n    .dataframe tbody tr th:only-of-type {\n        vertical-align: middle;\n    }\n\n    .dataframe tbody tr th {\n        vertical-align: top;\n    }\n\n    .dataframe thead th {\n        text-align: right;\n    }\n</style>\n<table border=\"1\" class=\"dataframe\">\n  <thead>\n    <tr style=\"text-align: right;\">\n      <th></th>\n      <th>FEMENINO</th>\n      <th>MASCULINO</th>\n    </tr>\n    <tr>\n      <th>FECHA_FALLECIMIENTO</th>\n      <th></th>\n      <th></th>\n    </tr>\n  </thead>\n  <tbody>\n    <tr>\n      <th>2020-03-18</th>\n      <td>0</td>\n      <td>3</td>\n    </tr>\n    <tr>\n      <th>2020-03-19</th>\n      <td>0</td>\n      <td>6</td>\n    </tr>\n    <tr>\n      <th>2020-03-20</th>\n      <td>1</td>\n      <td>7</td>\n    </tr>\n    <tr>\n      <th>2020-03-21</th>\n      <td>1</td>\n      <td>9</td>\n    </tr>\n    <tr>\n      <th>2020-03-22</th>\n      <td>2</td>\n      <td>12</td>\n    </tr>\n    <tr>\n      <th>...</th>\n      <td>...</td>\n      <td>...</td>\n    </tr>\n    <tr>\n      <th>2021-05-18</th>\n      <td>22855</td>\n      <td>44179</td>\n    </tr>\n    <tr>\n      <th>2021-05-19</th>\n      <td>22936</td>\n      <td>44317</td>\n    </tr>\n    <tr>\n      <th>2021-05-20</th>\n      <td>23050</td>\n      <td>44519</td>\n    </tr>\n    <tr>\n      <th>2021-05-21</th>\n      <td>23142</td>\n      <td>44665</td>\n    </tr>\n    <tr>\n      <th>2021-05-22</th>\n      <td>23238</td>\n      <td>44815</td>\n    </tr>\n  </tbody>\n</table>\n<p>431 rows × 2 columns</p>\n</div>"
     },
     "metadata": {},
     "execution_count": 3
    }
   ],
   "source": [
    "# ACUMULADO FALLECIDOS\n",
    "df_fallecidos_cum=df_fallecidos.cumsum()\n",
    "df_fallecidos_cum"
   ]
  },
  {
   "cell_type": "code",
   "execution_count": 4,
   "metadata": {},
   "outputs": [],
   "source": [
    "col_poblacion=[426806,\n",
    "1180638,\n",
    "430736,\n",
    "1497438,\n",
    "668213,\n",
    "1453711,\n",
    "1129854,\n",
    "1357075,\n",
    "365317,\n",
    "760267,\n",
    "975182,\n",
    "1361467,\n",
    "2016771,\n",
    "1310785,\n",
    "10628470,\n",
    "1027559,\n",
    "173811,\n",
    "192740,\n",
    "271904,\n",
    "2047954,\n",
    "1237997,\n",
    "899648,\n",
    "370974,\n",
    "251521,\n",
    "589110]"
   ]
  },
  {
   "cell_type": "code",
   "execution_count": 8,
   "metadata": {},
   "outputs": [
    {
     "output_type": "execute_result",
     "data": {
      "text/plain": [
       "                SEXO  POBLACION  INDICE\n",
       "DEPARTAMENTO                           \n",
       "AMAZONAS         514     426806     120\n",
       "ANCASH          2982    1180638     253\n",
       "APURIMAC         606     430736     141\n",
       "AREQUIPA        2816    1497438     188\n",
       "AYACUCHO         833     668213     125\n",
       "CAJAMARCA       1467    1453711     101\n",
       "CALLAO          3424    1129854     303\n",
       "CUSCO           1394    1357075     103\n",
       "HUANCAVELICA     428     365317     117\n",
       "HUANUCO         1065     760267     140\n",
       "ICA             3032     975182     311\n",
       "JUNIN           2520    1361467     185\n",
       "LA LIBERTAD     4145    2016771     206\n",
       "LAMBAYEQUE      2741    1310785     209\n",
       "LIMA           29423   10628470     277\n",
       "LORETO          1410    1027559     137\n",
       "MADRE DE DIOS    240     173811     138\n",
       "MOQUEGUA         587     192740     305\n",
       "PASCO            429     271904     158\n",
       "PIURA           3293    2047954     161\n",
       "PUNO             989    1237997      80\n",
       "SAN MARTIN      1313     899648     146\n",
       "TACNA            812     370974     219\n",
       "TUMBES           600     251521     239\n",
       "UCAYALI          990     589110     168"
      ],
      "text/html": "<div>\n<style scoped>\n    .dataframe tbody tr th:only-of-type {\n        vertical-align: middle;\n    }\n\n    .dataframe tbody tr th {\n        vertical-align: top;\n    }\n\n    .dataframe thead th {\n        text-align: right;\n    }\n</style>\n<table border=\"1\" class=\"dataframe\">\n  <thead>\n    <tr style=\"text-align: right;\">\n      <th></th>\n      <th>SEXO</th>\n      <th>POBLACION</th>\n      <th>INDICE</th>\n    </tr>\n    <tr>\n      <th>DEPARTAMENTO</th>\n      <th></th>\n      <th></th>\n      <th></th>\n    </tr>\n  </thead>\n  <tbody>\n    <tr>\n      <th>AMAZONAS</th>\n      <td>514</td>\n      <td>426806</td>\n      <td>120</td>\n    </tr>\n    <tr>\n      <th>ANCASH</th>\n      <td>2982</td>\n      <td>1180638</td>\n      <td>253</td>\n    </tr>\n    <tr>\n      <th>APURIMAC</th>\n      <td>606</td>\n      <td>430736</td>\n      <td>141</td>\n    </tr>\n    <tr>\n      <th>AREQUIPA</th>\n      <td>2816</td>\n      <td>1497438</td>\n      <td>188</td>\n    </tr>\n    <tr>\n      <th>AYACUCHO</th>\n      <td>833</td>\n      <td>668213</td>\n      <td>125</td>\n    </tr>\n    <tr>\n      <th>CAJAMARCA</th>\n      <td>1467</td>\n      <td>1453711</td>\n      <td>101</td>\n    </tr>\n    <tr>\n      <th>CALLAO</th>\n      <td>3424</td>\n      <td>1129854</td>\n      <td>303</td>\n    </tr>\n    <tr>\n      <th>CUSCO</th>\n      <td>1394</td>\n      <td>1357075</td>\n      <td>103</td>\n    </tr>\n    <tr>\n      <th>HUANCAVELICA</th>\n      <td>428</td>\n      <td>365317</td>\n      <td>117</td>\n    </tr>\n    <tr>\n      <th>HUANUCO</th>\n      <td>1065</td>\n      <td>760267</td>\n      <td>140</td>\n    </tr>\n    <tr>\n      <th>ICA</th>\n      <td>3032</td>\n      <td>975182</td>\n      <td>311</td>\n    </tr>\n    <tr>\n      <th>JUNIN</th>\n      <td>2520</td>\n      <td>1361467</td>\n      <td>185</td>\n    </tr>\n    <tr>\n      <th>LA LIBERTAD</th>\n      <td>4145</td>\n      <td>2016771</td>\n      <td>206</td>\n    </tr>\n    <tr>\n      <th>LAMBAYEQUE</th>\n      <td>2741</td>\n      <td>1310785</td>\n      <td>209</td>\n    </tr>\n    <tr>\n      <th>LIMA</th>\n      <td>29423</td>\n      <td>10628470</td>\n      <td>277</td>\n    </tr>\n    <tr>\n      <th>LORETO</th>\n      <td>1410</td>\n      <td>1027559</td>\n      <td>137</td>\n    </tr>\n    <tr>\n      <th>MADRE DE DIOS</th>\n      <td>240</td>\n      <td>173811</td>\n      <td>138</td>\n    </tr>\n    <tr>\n      <th>MOQUEGUA</th>\n      <td>587</td>\n      <td>192740</td>\n      <td>305</td>\n    </tr>\n    <tr>\n      <th>PASCO</th>\n      <td>429</td>\n      <td>271904</td>\n      <td>158</td>\n    </tr>\n    <tr>\n      <th>PIURA</th>\n      <td>3293</td>\n      <td>2047954</td>\n      <td>161</td>\n    </tr>\n    <tr>\n      <th>PUNO</th>\n      <td>989</td>\n      <td>1237997</td>\n      <td>80</td>\n    </tr>\n    <tr>\n      <th>SAN MARTIN</th>\n      <td>1313</td>\n      <td>899648</td>\n      <td>146</td>\n    </tr>\n    <tr>\n      <th>TACNA</th>\n      <td>812</td>\n      <td>370974</td>\n      <td>219</td>\n    </tr>\n    <tr>\n      <th>TUMBES</th>\n      <td>600</td>\n      <td>251521</td>\n      <td>239</td>\n    </tr>\n    <tr>\n      <th>UCAYALI</th>\n      <td>990</td>\n      <td>589110</td>\n      <td>168</td>\n    </tr>\n  </tbody>\n</table>\n</div>"
     },
     "metadata": {},
     "execution_count": 8
    }
   ],
   "source": [
    "# ACUMULADO POR DEPARTAMENTO\n",
    "df_fallecidos_departamento=df[['DEPARTAMENTO','SEXO']].groupby(['DEPARTAMENTO']).count()\n",
    "df_fallecidos_departamento['POBLACION']=col_poblacion\n",
    "df_fallecidos_departamento['INDICE']=round(df_fallecidos_departamento['SEXO']/(df_fallecidos_departamento['POBLACION']/100000)).astype('int')\n",
    "df_fallecidos_departamento"
   ]
  },
  {
   "cell_type": "code",
   "execution_count": 6,
   "metadata": {},
   "outputs": [
    {
     "output_type": "execute_result",
     "data": {
      "text/plain": [
       "               FALLECIDOS  POBLACION  PORCENTAJE\n",
       "GRUPO_ETARIO                                    \n",
       "18 a 19 años           55     900000        0.01\n",
       "20 a 29 años          741    5700000        0.01\n",
       "30 a 39 años         2264    5300000        0.04\n",
       "40 a 49 años         5845    4400000        0.13\n",
       "50 a 59 años        11999    3300000        0.36\n",
       "60 a 69 años        18048    2300000        0.78\n",
       "70 a 79 años        16362    1300000        1.26\n",
       "80 años a más       12347     700000        1.76"
      ],
      "text/html": "<div>\n<style scoped>\n    .dataframe tbody tr th:only-of-type {\n        vertical-align: middle;\n    }\n\n    .dataframe tbody tr th {\n        vertical-align: top;\n    }\n\n    .dataframe thead th {\n        text-align: right;\n    }\n</style>\n<table border=\"1\" class=\"dataframe\">\n  <thead>\n    <tr style=\"text-align: right;\">\n      <th></th>\n      <th>FALLECIDOS</th>\n      <th>POBLACION</th>\n      <th>PORCENTAJE</th>\n    </tr>\n    <tr>\n      <th>GRUPO_ETARIO</th>\n      <th></th>\n      <th></th>\n      <th></th>\n    </tr>\n  </thead>\n  <tbody>\n    <tr>\n      <th>18 a 19 años</th>\n      <td>55</td>\n      <td>900000</td>\n      <td>0.01</td>\n    </tr>\n    <tr>\n      <th>20 a 29 años</th>\n      <td>741</td>\n      <td>5700000</td>\n      <td>0.01</td>\n    </tr>\n    <tr>\n      <th>30 a 39 años</th>\n      <td>2264</td>\n      <td>5300000</td>\n      <td>0.04</td>\n    </tr>\n    <tr>\n      <th>40 a 49 años</th>\n      <td>5845</td>\n      <td>4400000</td>\n      <td>0.13</td>\n    </tr>\n    <tr>\n      <th>50 a 59 años</th>\n      <td>11999</td>\n      <td>3300000</td>\n      <td>0.36</td>\n    </tr>\n    <tr>\n      <th>60 a 69 años</th>\n      <td>18048</td>\n      <td>2300000</td>\n      <td>0.78</td>\n    </tr>\n    <tr>\n      <th>70 a 79 años</th>\n      <td>16362</td>\n      <td>1300000</td>\n      <td>1.26</td>\n    </tr>\n    <tr>\n      <th>80 años a más</th>\n      <td>12347</td>\n      <td>700000</td>\n      <td>1.76</td>\n    </tr>\n  </tbody>\n</table>\n</div>"
     },
     "metadata": {},
     "execution_count": 6
    }
   ],
   "source": [
    "# ACUMULADO POR GRUPO ETARIO\n",
    "bins = [18,20,30,40,50,60,70,80,df['EDAD_DECLARADA'].max()+1]\n",
    "labels = ['18 a 19 años','20 a 29 años','30 a 39 años','40 a 49 años','50 a 59 años','60 a 69 años','70 a 79 años','80 años a más']\n",
    "poblacion_por_grupo_etario = [900000,5700000,5300000,4400000,3300000,2300000,1300000,700000] \n",
    "df_fallecidos_edades = df\n",
    "df_fallecidos_edades['GRUPO_ETARIO'] = pd.cut(df['EDAD_DECLARADA'], bins=bins, labels=labels, right=False)\n",
    "df_fallecidos_edades = df_fallecidos_edades.groupby(['GRUPO_ETARIO'])[\"SEXO\"].count().reset_index()\n",
    "df_fallecidos_edades.rename(columns = {'SEXO':'FALLECIDOS'}, inplace = True)\n",
    "df_fallecidos_edades['POBLACION']=poblacion_por_grupo_etario\n",
    "df_fallecidos_edades['PORCENTAJE']=round(df_fallecidos_edades['FALLECIDOS']/df_fallecidos_edades['POBLACION']*100,2)\n",
    "df_fallecidos_edades=df_fallecidos_edades.set_index('GRUPO_ETARIO')\n",
    "df_fallecidos_edades"
   ]
  },
  {
   "cell_type": "code",
   "execution_count": 7,
   "metadata": {},
   "outputs": [],
   "source": [
    "df_fallecidos.to_csv('../resultados/fallecidos_diarios.csv')\n",
    "df_fallecidos_cum.to_csv('../resultados/fallecidos_acumulados.csv')\n",
    "df_fallecidos_departamento.to_csv('../resultados/fallecidos_por_departamentos.csv')\n",
    "df_fallecidos_edades.to_csv('../resultados/fallecidos_por_edades.csv')"
   ]
  }
 ],
 "metadata": {
  "kernelspec": {
   "name": "python3",
   "display_name": "Python 3",
   "language": "python"
  },
  "language_info": {
   "codemirror_mode": {
    "name": "ipython",
    "version": 3
   },
   "file_extension": ".py",
   "mimetype": "text/x-python",
   "name": "python",
   "nbconvert_exporter": "python",
   "pygments_lexer": "ipython3",
   "version": "3.8.5"
  },
  "metadata": {
   "interpreter": {
    "hash": "0adcc2737ebf6a4a119f135174df96668767fca1ef1112612db5ecadf2b6d608"
   }
  }
 },
 "nbformat": 4,
 "nbformat_minor": 5
}