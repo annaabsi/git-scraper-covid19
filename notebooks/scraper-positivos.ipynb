{
 "cells": [
  {
   "cell_type": "code",
   "execution_count": 2,
   "id": "permanent-gauge",
   "metadata": {
    "tags": []
   },
   "outputs": [],
   "source": [
    "import pandas as pd\n",
    "#df=pd.read_csv('https://cloud.minsa.gob.pe/s/Y8w3wHsEdYQSZRp/download', sep=';', usecols=['FECHA_CORTE', 'EDAD', 'SEXO', 'FECHA_RESULTADO', 'METODODX', 'DEPARTAMENTO'], parse_dates=['FECHA_RESULTADO'])\n",
    "df=pd.read_csv('positivos_covid.csv', sep=';', usecols=['FECHA_CORTE', 'EDAD', 'SEXO', 'FECHA_RESULTADO', 'METODODX', 'DEPARTAMENTO'], parse_dates=['FECHA_RESULTADO'])\n",
    "fecha_corte=df['FECHA_CORTE'].drop_duplicates().set_axis(['fecha_corte'])\n",
    "fecha_corte.to_json(\"../resultados/fecha_corte_positivos.json\")"
   ]
  },
  {
   "cell_type": "code",
   "execution_count": 3,
   "metadata": {},
   "outputs": [
    {
     "output_type": "execute_result",
     "data": {
      "text/plain": [
       "                   AG   PCR   PR\n",
       "FECHA_RESULTADO                 \n",
       "2020-03-06          0     1    0\n",
       "2020-03-07          0     5    0\n",
       "2020-03-08          0     2    0\n",
       "2020-03-09          0     3    0\n",
       "2020-03-10          0     1    0\n",
       "...               ...   ...  ...\n",
       "2021-05-18       2887  1702  661\n",
       "2021-05-19       2738  1413  545\n",
       "2021-05-20       2463  1349  474\n",
       "2021-05-21       2228  1199  414\n",
       "2021-05-22       1093   771  175\n",
       "\n",
       "[441 rows x 3 columns]"
      ],
      "text/html": "<div>\n<style scoped>\n    .dataframe tbody tr th:only-of-type {\n        vertical-align: middle;\n    }\n\n    .dataframe tbody tr th {\n        vertical-align: top;\n    }\n\n    .dataframe thead th {\n        text-align: right;\n    }\n</style>\n<table border=\"1\" class=\"dataframe\">\n  <thead>\n    <tr style=\"text-align: right;\">\n      <th></th>\n      <th>AG</th>\n      <th>PCR</th>\n      <th>PR</th>\n    </tr>\n    <tr>\n      <th>FECHA_RESULTADO</th>\n      <th></th>\n      <th></th>\n      <th></th>\n    </tr>\n  </thead>\n  <tbody>\n    <tr>\n      <th>2020-03-06</th>\n      <td>0</td>\n      <td>1</td>\n      <td>0</td>\n    </tr>\n    <tr>\n      <th>2020-03-07</th>\n      <td>0</td>\n      <td>5</td>\n      <td>0</td>\n    </tr>\n    <tr>\n      <th>2020-03-08</th>\n      <td>0</td>\n      <td>2</td>\n      <td>0</td>\n    </tr>\n    <tr>\n      <th>2020-03-09</th>\n      <td>0</td>\n      <td>3</td>\n      <td>0</td>\n    </tr>\n    <tr>\n      <th>2020-03-10</th>\n      <td>0</td>\n      <td>1</td>\n      <td>0</td>\n    </tr>\n    <tr>\n      <th>...</th>\n      <td>...</td>\n      <td>...</td>\n      <td>...</td>\n    </tr>\n    <tr>\n      <th>2021-05-18</th>\n      <td>2887</td>\n      <td>1702</td>\n      <td>661</td>\n    </tr>\n    <tr>\n      <th>2021-05-19</th>\n      <td>2738</td>\n      <td>1413</td>\n      <td>545</td>\n    </tr>\n    <tr>\n      <th>2021-05-20</th>\n      <td>2463</td>\n      <td>1349</td>\n      <td>474</td>\n    </tr>\n    <tr>\n      <th>2021-05-21</th>\n      <td>2228</td>\n      <td>1199</td>\n      <td>414</td>\n    </tr>\n    <tr>\n      <th>2021-05-22</th>\n      <td>1093</td>\n      <td>771</td>\n      <td>175</td>\n    </tr>\n  </tbody>\n</table>\n<p>441 rows × 3 columns</p>\n</div>"
     },
     "metadata": {},
     "execution_count": 3
    }
   ],
   "source": [
    "# DIARIO AG, PCR, PR\n",
    "df_positivos=df[['FECHA_RESULTADO','METODODX','SEXO']].groupby(['FECHA_RESULTADO','METODODX']).count()\n",
    "df_positivos=df_positivos.reset_index()\n",
    "df_positivos=df_positivos.pivot(index='FECHA_RESULTADO', columns='METODODX', values='SEXO')\n",
    "df_positivos=df_positivos.rename_axis(None, axis=1)\n",
    "df_positivos=df_positivos.fillna(0).astype('int')\n",
    "df_positivos"
   ]
  },
  {
   "cell_type": "code",
   "execution_count": 4,
   "metadata": {},
   "outputs": [
    {
     "output_type": "execute_result",
     "data": {
      "text/plain": [
       "                     AG     PCR      PR\n",
       "FECHA_RESULTADO                        \n",
       "2020-03-06            0       1       0\n",
       "2020-03-07            0       6       0\n",
       "2020-03-08            0       8       0\n",
       "2020-03-09            0      11       0\n",
       "2020-03-10            0      12       0\n",
       "...                 ...     ...     ...\n",
       "2021-05-18       423765  570708  913930\n",
       "2021-05-19       426503  572121  914475\n",
       "2021-05-20       428966  573470  914949\n",
       "2021-05-21       431194  574669  915363\n",
       "2021-05-22       432287  575440  915538\n",
       "\n",
       "[441 rows x 3 columns]"
      ],
      "text/html": "<div>\n<style scoped>\n    .dataframe tbody tr th:only-of-type {\n        vertical-align: middle;\n    }\n\n    .dataframe tbody tr th {\n        vertical-align: top;\n    }\n\n    .dataframe thead th {\n        text-align: right;\n    }\n</style>\n<table border=\"1\" class=\"dataframe\">\n  <thead>\n    <tr style=\"text-align: right;\">\n      <th></th>\n      <th>AG</th>\n      <th>PCR</th>\n      <th>PR</th>\n    </tr>\n    <tr>\n      <th>FECHA_RESULTADO</th>\n      <th></th>\n      <th></th>\n      <th></th>\n    </tr>\n  </thead>\n  <tbody>\n    <tr>\n      <th>2020-03-06</th>\n      <td>0</td>\n      <td>1</td>\n      <td>0</td>\n    </tr>\n    <tr>\n      <th>2020-03-07</th>\n      <td>0</td>\n      <td>6</td>\n      <td>0</td>\n    </tr>\n    <tr>\n      <th>2020-03-08</th>\n      <td>0</td>\n      <td>8</td>\n      <td>0</td>\n    </tr>\n    <tr>\n      <th>2020-03-09</th>\n      <td>0</td>\n      <td>11</td>\n      <td>0</td>\n    </tr>\n    <tr>\n      <th>2020-03-10</th>\n      <td>0</td>\n      <td>12</td>\n      <td>0</td>\n    </tr>\n    <tr>\n      <th>...</th>\n      <td>...</td>\n      <td>...</td>\n      <td>...</td>\n    </tr>\n    <tr>\n      <th>2021-05-18</th>\n      <td>423765</td>\n      <td>570708</td>\n      <td>913930</td>\n    </tr>\n    <tr>\n      <th>2021-05-19</th>\n      <td>426503</td>\n      <td>572121</td>\n      <td>914475</td>\n    </tr>\n    <tr>\n      <th>2021-05-20</th>\n      <td>428966</td>\n      <td>573470</td>\n      <td>914949</td>\n    </tr>\n    <tr>\n      <th>2021-05-21</th>\n      <td>431194</td>\n      <td>574669</td>\n      <td>915363</td>\n    </tr>\n    <tr>\n      <th>2021-05-22</th>\n      <td>432287</td>\n      <td>575440</td>\n      <td>915538</td>\n    </tr>\n  </tbody>\n</table>\n<p>441 rows × 3 columns</p>\n</div>"
     },
     "metadata": {},
     "execution_count": 4
    }
   ],
   "source": [
    "# ACUMULADO AG, PCR, PR\n",
    "df_positivos_cum=df_positivos.cumsum()\n",
    "df_positivos_cum"
   ]
  },
  {
   "cell_type": "code",
   "execution_count": 5,
   "metadata": {},
   "outputs": [],
   "source": [
    "col_poblacion=[426806,\n",
    "1180638,\n",
    "430736,\n",
    "1497438,\n",
    "668213,\n",
    "1453711,\n",
    "1129854,\n",
    "1357075,\n",
    "365317,\n",
    "760267,\n",
    "975182,\n",
    "1361467,\n",
    "2016771,\n",
    "1310785,\n",
    "10628470,\n",
    "1027559,\n",
    "173811,\n",
    "192740,\n",
    "271904,\n",
    "2047954,\n",
    "1237997,\n",
    "899648,\n",
    "370974,\n",
    "251521,\n",
    "589110]"
   ]
  },
  {
   "cell_type": "code",
   "execution_count": 16,
   "metadata": {},
   "outputs": [
    {
     "output_type": "stream",
     "name": "stderr",
     "text": [
      "<ipython-input-16-0d0b6f5d0e35>:8: SettingWithCopyWarning: \nA value is trying to be set on a copy of a slice from a DataFrame.\nTry using .loc[row_indexer,col_indexer] = value instead\n\nSee the caveats in the documentation: https://pandas.pydata.org/pandas-docs/stable/user_guide/indexing.html#returning-a-view-versus-a-copy\n  df_positivos_departamento['DEPARTAMENTO']=df_positivos_departamento['DEPARTAMENTO'].map(function)\n"
     ]
    },
    {
     "output_type": "execute_result",
     "data": {
      "text/plain": [
       "               METODODX  POBLACION  INDICE\n",
       "DEPARTAMENTO                              \n",
       "AMAZONAS          28174     426806    6601\n",
       "ANCASH            68378    1180638    5792\n",
       "APURIMAC          22469     430736    5216\n",
       "AREQUIPA          80787    1497438    5395\n",
       "AYACUCHO          28392     668213    4249\n",
       "CAJAMARCA         57238    1453711    3937\n",
       "CALLAO            94469    1129854    8361\n",
       "CUSCO             60988    1357075    4494\n",
       "HUANCAVELICA      14407     365317    3944\n",
       "HUANUCO           31676     760267    4166\n",
       "ICA               51670     975182    5298\n",
       "JUNIN             70243    1361467    5159\n",
       "LA LIBERTAD       75402    2016771    3739\n",
       "LAMBAYEQUE        54593    1310785    4165\n",
       "LIMA             871728   10628470    8202\n",
       "LORETO            39648    1027559    3858\n",
       "MADRE DE DIOS     13048     173811    7507\n",
       "MOQUEGUA          24303     192740   12609\n",
       "PASCO             13942     271904    5128\n",
       "PIURA             76508    2047954    3736\n",
       "PUNO              31692    1237997    2560\n",
       "SAN MARTIN        43312     899648    4814\n",
       "TACNA             24854     370974    6700\n",
       "TUMBES            16304     251521    6482\n",
       "UCAYALI           31064     589110    5273"
      ],
      "text/html": "<div>\n<style scoped>\n    .dataframe tbody tr th:only-of-type {\n        vertical-align: middle;\n    }\n\n    .dataframe tbody tr th {\n        vertical-align: top;\n    }\n\n    .dataframe thead th {\n        text-align: right;\n    }\n</style>\n<table border=\"1\" class=\"dataframe\">\n  <thead>\n    <tr style=\"text-align: right;\">\n      <th></th>\n      <th>METODODX</th>\n      <th>POBLACION</th>\n      <th>INDICE</th>\n    </tr>\n    <tr>\n      <th>DEPARTAMENTO</th>\n      <th></th>\n      <th></th>\n      <th></th>\n    </tr>\n  </thead>\n  <tbody>\n    <tr>\n      <th>AMAZONAS</th>\n      <td>28174</td>\n      <td>426806</td>\n      <td>6601</td>\n    </tr>\n    <tr>\n      <th>ANCASH</th>\n      <td>68378</td>\n      <td>1180638</td>\n      <td>5792</td>\n    </tr>\n    <tr>\n      <th>APURIMAC</th>\n      <td>22469</td>\n      <td>430736</td>\n      <td>5216</td>\n    </tr>\n    <tr>\n      <th>AREQUIPA</th>\n      <td>80787</td>\n      <td>1497438</td>\n      <td>5395</td>\n    </tr>\n    <tr>\n      <th>AYACUCHO</th>\n      <td>28392</td>\n      <td>668213</td>\n      <td>4249</td>\n    </tr>\n    <tr>\n      <th>CAJAMARCA</th>\n      <td>57238</td>\n      <td>1453711</td>\n      <td>3937</td>\n    </tr>\n    <tr>\n      <th>CALLAO</th>\n      <td>94469</td>\n      <td>1129854</td>\n      <td>8361</td>\n    </tr>\n    <tr>\n      <th>CUSCO</th>\n      <td>60988</td>\n      <td>1357075</td>\n      <td>4494</td>\n    </tr>\n    <tr>\n      <th>HUANCAVELICA</th>\n      <td>14407</td>\n      <td>365317</td>\n      <td>3944</td>\n    </tr>\n    <tr>\n      <th>HUANUCO</th>\n      <td>31676</td>\n      <td>760267</td>\n      <td>4166</td>\n    </tr>\n    <tr>\n      <th>ICA</th>\n      <td>51670</td>\n      <td>975182</td>\n      <td>5298</td>\n    </tr>\n    <tr>\n      <th>JUNIN</th>\n      <td>70243</td>\n      <td>1361467</td>\n      <td>5159</td>\n    </tr>\n    <tr>\n      <th>LA LIBERTAD</th>\n      <td>75402</td>\n      <td>2016771</td>\n      <td>3739</td>\n    </tr>\n    <tr>\n      <th>LAMBAYEQUE</th>\n      <td>54593</td>\n      <td>1310785</td>\n      <td>4165</td>\n    </tr>\n    <tr>\n      <th>LIMA</th>\n      <td>871728</td>\n      <td>10628470</td>\n      <td>8202</td>\n    </tr>\n    <tr>\n      <th>LORETO</th>\n      <td>39648</td>\n      <td>1027559</td>\n      <td>3858</td>\n    </tr>\n    <tr>\n      <th>MADRE DE DIOS</th>\n      <td>13048</td>\n      <td>173811</td>\n      <td>7507</td>\n    </tr>\n    <tr>\n      <th>MOQUEGUA</th>\n      <td>24303</td>\n      <td>192740</td>\n      <td>12609</td>\n    </tr>\n    <tr>\n      <th>PASCO</th>\n      <td>13942</td>\n      <td>271904</td>\n      <td>5128</td>\n    </tr>\n    <tr>\n      <th>PIURA</th>\n      <td>76508</td>\n      <td>2047954</td>\n      <td>3736</td>\n    </tr>\n    <tr>\n      <th>PUNO</th>\n      <td>31692</td>\n      <td>1237997</td>\n      <td>2560</td>\n    </tr>\n    <tr>\n      <th>SAN MARTIN</th>\n      <td>43312</td>\n      <td>899648</td>\n      <td>4814</td>\n    </tr>\n    <tr>\n      <th>TACNA</th>\n      <td>24854</td>\n      <td>370974</td>\n      <td>6700</td>\n    </tr>\n    <tr>\n      <th>TUMBES</th>\n      <td>16304</td>\n      <td>251521</td>\n      <td>6482</td>\n    </tr>\n    <tr>\n      <th>UCAYALI</th>\n      <td>31064</td>\n      <td>589110</td>\n      <td>5273</td>\n    </tr>\n  </tbody>\n</table>\n</div>"
     },
     "metadata": {},
     "execution_count": 16
    }
   ],
   "source": [
    "# ACUMULADO POR DEPARTAMENTO\n",
    "df_positivos_departamento=df[['DEPARTAMENTO','METODODX']]\n",
    "def function(valueX):\n",
    "  if 'LIMA REGION' in valueX:\n",
    "    return 'LIMA'\n",
    "  else:\n",
    "    return valueX\n",
    "df_positivos_departamento['DEPARTAMENTO']=df_positivos_departamento['DEPARTAMENTO'].map(function)\n",
    "df_positivos_departamento=df_positivos_departamento.groupby(['DEPARTAMENTO']).count()\n",
    "df_positivos_departamento['POBLACION']=col_poblacion\n",
    "df_positivos_departamento['INDICE']=round(df_positivos_departamento['METODODX']/(df_positivos_departamento['POBLACION']/100000)).astype('int')\n",
    "df_positivos_departamento"
   ]
  },
  {
   "cell_type": "code",
   "execution_count": 1,
   "metadata": {},
   "outputs": [
    {
     "output_type": "error",
     "ename": "NameError",
     "evalue": "name 'df' is not defined",
     "traceback": [
      "\u001b[0;31m---------------------------------------------------------------------------\u001b[0m",
      "\u001b[0;31mNameError\u001b[0m                                 Traceback (most recent call last)",
      "\u001b[0;32m<ipython-input-1-7580539e0055>\u001b[0m in \u001b[0;36m<module>\u001b[0;34m\u001b[0m\n\u001b[1;32m      1\u001b[0m \u001b[0;31m# ACUMULADO POR GRUPO ETARIO\u001b[0m\u001b[0;34m\u001b[0m\u001b[0;34m\u001b[0m\u001b[0;34m\u001b[0m\u001b[0m\n\u001b[0;32m----> 2\u001b[0;31m \u001b[0mbins\u001b[0m \u001b[0;34m=\u001b[0m \u001b[0;34m[\u001b[0m\u001b[0;36m18\u001b[0m\u001b[0;34m,\u001b[0m\u001b[0;36m20\u001b[0m\u001b[0;34m,\u001b[0m\u001b[0;36m30\u001b[0m\u001b[0;34m,\u001b[0m\u001b[0;36m40\u001b[0m\u001b[0;34m,\u001b[0m\u001b[0;36m50\u001b[0m\u001b[0;34m,\u001b[0m\u001b[0;36m60\u001b[0m\u001b[0;34m,\u001b[0m\u001b[0;36m70\u001b[0m\u001b[0;34m,\u001b[0m\u001b[0;36m80\u001b[0m\u001b[0;34m,\u001b[0m\u001b[0mdf\u001b[0m\u001b[0;34m[\u001b[0m\u001b[0;34m'EDAD'\u001b[0m\u001b[0;34m]\u001b[0m\u001b[0;34m.\u001b[0m\u001b[0mmax\u001b[0m\u001b[0;34m(\u001b[0m\u001b[0;34m)\u001b[0m\u001b[0;34m+\u001b[0m\u001b[0;36m1\u001b[0m\u001b[0;34m]\u001b[0m\u001b[0;34m\u001b[0m\u001b[0;34m\u001b[0m\u001b[0m\n\u001b[0m\u001b[1;32m      3\u001b[0m \u001b[0mlabels\u001b[0m \u001b[0;34m=\u001b[0m \u001b[0;34m[\u001b[0m\u001b[0;34m'18 a 19 años'\u001b[0m\u001b[0;34m,\u001b[0m\u001b[0;34m'20 a 29 años'\u001b[0m\u001b[0;34m,\u001b[0m\u001b[0;34m'30 a 39 años'\u001b[0m\u001b[0;34m,\u001b[0m\u001b[0;34m'40 a 49 años'\u001b[0m\u001b[0;34m,\u001b[0m\u001b[0;34m'50 a 59 años'\u001b[0m\u001b[0;34m,\u001b[0m\u001b[0;34m'60 a 69 años'\u001b[0m\u001b[0;34m,\u001b[0m\u001b[0;34m'70 a 79 años'\u001b[0m\u001b[0;34m,\u001b[0m\u001b[0;34m'80 años a más'\u001b[0m\u001b[0;34m]\u001b[0m\u001b[0;34m\u001b[0m\u001b[0;34m\u001b[0m\u001b[0m\n\u001b[1;32m      4\u001b[0m \u001b[0mpoblacion_por_grupo_etario\u001b[0m \u001b[0;34m=\u001b[0m \u001b[0;34m[\u001b[0m\u001b[0;36m900000\u001b[0m\u001b[0;34m,\u001b[0m\u001b[0;36m5700000\u001b[0m\u001b[0;34m,\u001b[0m\u001b[0;36m5300000\u001b[0m\u001b[0;34m,\u001b[0m\u001b[0;36m4400000\u001b[0m\u001b[0;34m,\u001b[0m\u001b[0;36m3300000\u001b[0m\u001b[0;34m,\u001b[0m\u001b[0;36m2300000\u001b[0m\u001b[0;34m,\u001b[0m\u001b[0;36m1300000\u001b[0m\u001b[0;34m,\u001b[0m\u001b[0;36m700000\u001b[0m\u001b[0;34m]\u001b[0m\u001b[0;34m\u001b[0m\u001b[0;34m\u001b[0m\u001b[0m\n\u001b[1;32m      5\u001b[0m \u001b[0mdf_positivos_edades\u001b[0m \u001b[0;34m=\u001b[0m \u001b[0mdf\u001b[0m\u001b[0;34m\u001b[0m\u001b[0;34m\u001b[0m\u001b[0m\n",
      "\u001b[0;31mNameError\u001b[0m: name 'df' is not defined"
     ]
    }
   ],
   "source": [
    "# ACUMULADO POR GRUPO ETARIO\n",
    "bins = [18,20,30,40,50,60,70,80,df['EDAD'].max()+1]\n",
    "labels = ['18 a 19 años','20 a 29 años','30 a 39 años','40 a 49 años','50 a 59 años','60 a 69 años','70 a 79 años','80 años a más']\n",
    "poblacion_por_grupo_etario = [900000,5700000,5300000,4400000,3300000,2300000,1300000,700000] \n",
    "df_positivos_edades = df\n",
    "df_positivos_edades['GRUPO_ETARIO'] = pd.cut(df['EDAD'], bins=bins, labels=labels, right=False)\n",
    "df_positivos_edades = df_positivos_edades.groupby(['GRUPO_ETARIO'])[\"METODODX\"].count().reset_index()\n",
    "df_positivos_edades.rename(columns = {'METODODX':'POSITIVOS'}, inplace = True)\n",
    "df_positivos_edades['POBLACION']=poblacion_por_grupo_etario\n",
    "df_positivos_edades['PORCENTAJE']=round(df_positivos_edades['POSITIVOS']/df_positivos_edades['POBLACION']*100,2)\n",
    "df_positivos_edades=df_positivos_edades.set_index('GRUPO_ETARIO')\n",
    "df_positivos_edades"
   ]
  },
  {
   "cell_type": "code",
   "execution_count": 6,
   "metadata": {},
   "outputs": [],
   "source": [
    "df_positivos.to_csv('../resultados/positivos_diarios.csv')\n",
    "df_positivos_cum.to_csv('../resultados/positivos_acumulados.csv')\n",
    "df_positivos_departamento.to_csv('../resultados/positivos_por_departamentos.csv')\n",
    "df_positivos_edades.to_csv('../resultados/positivos_por_edades.csv')"
   ]
  }
 ],
 "metadata": {
  "kernelspec": {
   "name": "python3",
   "display_name": "Python 3",
   "language": "python"
  },
  "language_info": {
   "codemirror_mode": {
    "name": "ipython",
    "version": 3
   },
   "file_extension": ".py",
   "mimetype": "text/x-python",
   "name": "python",
   "nbconvert_exporter": "python",
   "pygments_lexer": "ipython3",
   "version": "3.8.5"
  },
  "metadata": {
   "interpreter": {
    "hash": "0adcc2737ebf6a4a119f135174df96668767fca1ef1112612db5ecadf2b6d608"
   }
  }
 },
 "nbformat": 4,
 "nbformat_minor": 5
}