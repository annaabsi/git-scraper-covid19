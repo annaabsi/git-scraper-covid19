{
 "cells": [
  {
   "cell_type": "code",
   "execution_count": 1,
   "id": "permanent-gauge",
   "metadata": {
    "tags": []
   },
   "outputs": [],
   "source": [
    "import pandas as pd\n",
    "#df=pd.read_csv('https://cloud.minsa.gob.pe/s/Y8w3wHsEdYQSZRp/download', sep=';', usecols=['FECHA_CORTE', 'EDAD', 'SEXO', 'FECHA_RESULTADO', 'METODODX', 'DEPARTAMENTO'], parse_dates=['FECHA_RESULTADO'])\n",
    "df=pd.read_csv('positivos_covid.csv', sep=';', usecols=['FECHA_CORTE', 'EDAD', 'SEXO', 'FECHA_RESULTADO', 'METODODX', 'DEPARTAMENTO'], parse_dates=['FECHA_RESULTADO'])\n",
    "fecha_corte=df['FECHA_CORTE'].drop_duplicates().set_axis(['fecha_corte'])\n",
    "fecha_corte.to_json(\"../resultados/fecha_corte_positivos.json\")"
   ]
  },
  {
   "cell_type": "code",
   "execution_count": 2,
   "metadata": {},
   "outputs": [
    {
     "output_type": "execute_result",
     "data": {
      "text/plain": [
       "                   AG   PCR   PR\n",
       "FECHA_RESULTADO                 \n",
       "2020-03-06          0     1    0\n",
       "2020-03-07          0     5    0\n",
       "2020-03-08          0     2    0\n",
       "2020-03-09          0     3    0\n",
       "2020-03-10          0     1    0\n",
       "...               ...   ...  ...\n",
       "2021-05-18       2887  1702  661\n",
       "2021-05-19       2738  1413  545\n",
       "2021-05-20       2463  1349  474\n",
       "2021-05-21       2228  1199  414\n",
       "2021-05-22       1093   771  175\n",
       "\n",
       "[441 rows x 3 columns]"
      ],
      "text/html": "<div>\n<style scoped>\n    .dataframe tbody tr th:only-of-type {\n        vertical-align: middle;\n    }\n\n    .dataframe tbody tr th {\n        vertical-align: top;\n    }\n\n    .dataframe thead th {\n        text-align: right;\n    }\n</style>\n<table border=\"1\" class=\"dataframe\">\n  <thead>\n    <tr style=\"text-align: right;\">\n      <th></th>\n      <th>AG</th>\n      <th>PCR</th>\n      <th>PR</th>\n    </tr>\n    <tr>\n      <th>FECHA_RESULTADO</th>\n      <th></th>\n      <th></th>\n      <th></th>\n    </tr>\n  </thead>\n  <tbody>\n    <tr>\n      <th>2020-03-06</th>\n      <td>0</td>\n      <td>1</td>\n      <td>0</td>\n    </tr>\n    <tr>\n      <th>2020-03-07</th>\n      <td>0</td>\n      <td>5</td>\n      <td>0</td>\n    </tr>\n    <tr>\n      <th>2020-03-08</th>\n      <td>0</td>\n      <td>2</td>\n      <td>0</td>\n    </tr>\n    <tr>\n      <th>2020-03-09</th>\n      <td>0</td>\n      <td>3</td>\n      <td>0</td>\n    </tr>\n    <tr>\n      <th>2020-03-10</th>\n      <td>0</td>\n      <td>1</td>\n      <td>0</td>\n    </tr>\n    <tr>\n      <th>...</th>\n      <td>...</td>\n      <td>...</td>\n      <td>...</td>\n    </tr>\n    <tr>\n      <th>2021-05-18</th>\n      <td>2887</td>\n      <td>1702</td>\n      <td>661</td>\n    </tr>\n    <tr>\n      <th>2021-05-19</th>\n      <td>2738</td>\n      <td>1413</td>\n      <td>545</td>\n    </tr>\n    <tr>\n      <th>2021-05-20</th>\n      <td>2463</td>\n      <td>1349</td>\n      <td>474</td>\n    </tr>\n    <tr>\n      <th>2021-05-21</th>\n      <td>2228</td>\n      <td>1199</td>\n      <td>414</td>\n    </tr>\n    <tr>\n      <th>2021-05-22</th>\n      <td>1093</td>\n      <td>771</td>\n      <td>175</td>\n    </tr>\n  </tbody>\n</table>\n<p>441 rows × 3 columns</p>\n</div>"
     },
     "metadata": {},
     "execution_count": 2
    }
   ],
   "source": [
    "# DIARIO AG, PCR, PR\n",
    "df_positivos=df[['FECHA_RESULTADO','METODODX','SEXO']].groupby(['FECHA_RESULTADO','METODODX']).count()\n",
    "df_positivos=df_positivos.reset_index()\n",
    "df_positivos=df_positivos.pivot(index='FECHA_RESULTADO', columns='METODODX', values='SEXO')\n",
    "df_positivos=df_positivos.rename_axis(None, axis=1)\n",
    "df_positivos=df_positivos.fillna(0).astype('int')\n",
    "df_positivos"
   ]
  },
  {
   "cell_type": "code",
   "execution_count": 3,
   "metadata": {},
   "outputs": [
    {
     "output_type": "execute_result",
     "data": {
      "text/plain": [
       "                     AG     PCR      PR\n",
       "FECHA_RESULTADO                        \n",
       "2020-03-06            0       1       0\n",
       "2020-03-07            0       6       0\n",
       "2020-03-08            0       8       0\n",
       "2020-03-09            0      11       0\n",
       "2020-03-10            0      12       0\n",
       "...                 ...     ...     ...\n",
       "2021-05-18       423765  570708  913930\n",
       "2021-05-19       426503  572121  914475\n",
       "2021-05-20       428966  573470  914949\n",
       "2021-05-21       431194  574669  915363\n",
       "2021-05-22       432287  575440  915538\n",
       "\n",
       "[441 rows x 3 columns]"
      ],
      "text/html": "<div>\n<style scoped>\n    .dataframe tbody tr th:only-of-type {\n        vertical-align: middle;\n    }\n\n    .dataframe tbody tr th {\n        vertical-align: top;\n    }\n\n    .dataframe thead th {\n        text-align: right;\n    }\n</style>\n<table border=\"1\" class=\"dataframe\">\n  <thead>\n    <tr style=\"text-align: right;\">\n      <th></th>\n      <th>AG</th>\n      <th>PCR</th>\n      <th>PR</th>\n    </tr>\n    <tr>\n      <th>FECHA_RESULTADO</th>\n      <th></th>\n      <th></th>\n      <th></th>\n    </tr>\n  </thead>\n  <tbody>\n    <tr>\n      <th>2020-03-06</th>\n      <td>0</td>\n      <td>1</td>\n      <td>0</td>\n    </tr>\n    <tr>\n      <th>2020-03-07</th>\n      <td>0</td>\n      <td>6</td>\n      <td>0</td>\n    </tr>\n    <tr>\n      <th>2020-03-08</th>\n      <td>0</td>\n      <td>8</td>\n      <td>0</td>\n    </tr>\n    <tr>\n      <th>2020-03-09</th>\n      <td>0</td>\n      <td>11</td>\n      <td>0</td>\n    </tr>\n    <tr>\n      <th>2020-03-10</th>\n      <td>0</td>\n      <td>12</td>\n      <td>0</td>\n    </tr>\n    <tr>\n      <th>...</th>\n      <td>...</td>\n      <td>...</td>\n      <td>...</td>\n    </tr>\n    <tr>\n      <th>2021-05-18</th>\n      <td>423765</td>\n      <td>570708</td>\n      <td>913930</td>\n    </tr>\n    <tr>\n      <th>2021-05-19</th>\n      <td>426503</td>\n      <td>572121</td>\n      <td>914475</td>\n    </tr>\n    <tr>\n      <th>2021-05-20</th>\n      <td>428966</td>\n      <td>573470</td>\n      <td>914949</td>\n    </tr>\n    <tr>\n      <th>2021-05-21</th>\n      <td>431194</td>\n      <td>574669</td>\n      <td>915363</td>\n    </tr>\n    <tr>\n      <th>2021-05-22</th>\n      <td>432287</td>\n      <td>575440</td>\n      <td>915538</td>\n    </tr>\n  </tbody>\n</table>\n<p>441 rows × 3 columns</p>\n</div>"
     },
     "metadata": {},
     "execution_count": 3
    }
   ],
   "source": [
    "# ACUMULADO AG, PCR, PR\n",
    "df_positivos_cum=df_positivos.cumsum()\n",
    "df_positivos_cum"
   ]
  },
  {
   "cell_type": "code",
   "execution_count": 4,
   "metadata": {},
   "outputs": [
    {
     "output_type": "execute_result",
     "data": {
      "text/plain": [
       "METODODX           AG     PCR      PR\n",
       "DEPARTAMENTO                         \n",
       "AMAZONAS         5629    4437   18108\n",
       "ANCASH          25924   14710   27744\n",
       "APURIMAC         8998    5125    8346\n",
       "AREQUIPA        15795   18055   46937\n",
       "AYACUCHO         7145    6399   14848\n",
       "CAJAMARCA       16539   13475   27224\n",
       "CALLAO          14957   43618   35894\n",
       "CUSCO           20771   16312   23905\n",
       "HUANCAVELICA     4394    1941    8072\n",
       "HUANUCO          7080    3662   20934\n",
       "ICA             11980    7653   32037\n",
       "JUNIN           19520   11746   38977\n",
       "LA LIBERTAD     22063   16319   37020\n",
       "LAMBAYEQUE       9801   11268   33524\n",
       "LIMA           151680  346443  308167\n",
       "LIMA REGION     22349   12502   30586\n",
       "LORETO           5457    7366   26825\n",
       "MADRE DE DIOS    2136    1191    9721\n",
       "MOQUEGUA         2589    3882   17832\n",
       "PASCO            3828    1015    9099\n",
       "PIURA           24889    6187   45432\n",
       "PUNO             6268    4765   20659\n",
       "SAN MARTIN       8436    7404   27472\n",
       "TACNA            5384    3990   15480\n",
       "TUMBES           3796    3617    8891\n",
       "UCAYALI          6902    2358   21804"
      ],
      "text/html": "<div>\n<style scoped>\n    .dataframe tbody tr th:only-of-type {\n        vertical-align: middle;\n    }\n\n    .dataframe tbody tr th {\n        vertical-align: top;\n    }\n\n    .dataframe thead th {\n        text-align: right;\n    }\n</style>\n<table border=\"1\" class=\"dataframe\">\n  <thead>\n    <tr style=\"text-align: right;\">\n      <th>METODODX</th>\n      <th>AG</th>\n      <th>PCR</th>\n      <th>PR</th>\n    </tr>\n    <tr>\n      <th>DEPARTAMENTO</th>\n      <th></th>\n      <th></th>\n      <th></th>\n    </tr>\n  </thead>\n  <tbody>\n    <tr>\n      <th>AMAZONAS</th>\n      <td>5629</td>\n      <td>4437</td>\n      <td>18108</td>\n    </tr>\n    <tr>\n      <th>ANCASH</th>\n      <td>25924</td>\n      <td>14710</td>\n      <td>27744</td>\n    </tr>\n    <tr>\n      <th>APURIMAC</th>\n      <td>8998</td>\n      <td>5125</td>\n      <td>8346</td>\n    </tr>\n    <tr>\n      <th>AREQUIPA</th>\n      <td>15795</td>\n      <td>18055</td>\n      <td>46937</td>\n    </tr>\n    <tr>\n      <th>AYACUCHO</th>\n      <td>7145</td>\n      <td>6399</td>\n      <td>14848</td>\n    </tr>\n    <tr>\n      <th>CAJAMARCA</th>\n      <td>16539</td>\n      <td>13475</td>\n      <td>27224</td>\n    </tr>\n    <tr>\n      <th>CALLAO</th>\n      <td>14957</td>\n      <td>43618</td>\n      <td>35894</td>\n    </tr>\n    <tr>\n      <th>CUSCO</th>\n      <td>20771</td>\n      <td>16312</td>\n      <td>23905</td>\n    </tr>\n    <tr>\n      <th>HUANCAVELICA</th>\n      <td>4394</td>\n      <td>1941</td>\n      <td>8072</td>\n    </tr>\n    <tr>\n      <th>HUANUCO</th>\n      <td>7080</td>\n      <td>3662</td>\n      <td>20934</td>\n    </tr>\n    <tr>\n      <th>ICA</th>\n      <td>11980</td>\n      <td>7653</td>\n      <td>32037</td>\n    </tr>\n    <tr>\n      <th>JUNIN</th>\n      <td>19520</td>\n      <td>11746</td>\n      <td>38977</td>\n    </tr>\n    <tr>\n      <th>LA LIBERTAD</th>\n      <td>22063</td>\n      <td>16319</td>\n      <td>37020</td>\n    </tr>\n    <tr>\n      <th>LAMBAYEQUE</th>\n      <td>9801</td>\n      <td>11268</td>\n      <td>33524</td>\n    </tr>\n    <tr>\n      <th>LIMA</th>\n      <td>151680</td>\n      <td>346443</td>\n      <td>308167</td>\n    </tr>\n    <tr>\n      <th>LIMA REGION</th>\n      <td>22349</td>\n      <td>12502</td>\n      <td>30586</td>\n    </tr>\n    <tr>\n      <th>LORETO</th>\n      <td>5457</td>\n      <td>7366</td>\n      <td>26825</td>\n    </tr>\n    <tr>\n      <th>MADRE DE DIOS</th>\n      <td>2136</td>\n      <td>1191</td>\n      <td>9721</td>\n    </tr>\n    <tr>\n      <th>MOQUEGUA</th>\n      <td>2589</td>\n      <td>3882</td>\n      <td>17832</td>\n    </tr>\n    <tr>\n      <th>PASCO</th>\n      <td>3828</td>\n      <td>1015</td>\n      <td>9099</td>\n    </tr>\n    <tr>\n      <th>PIURA</th>\n      <td>24889</td>\n      <td>6187</td>\n      <td>45432</td>\n    </tr>\n    <tr>\n      <th>PUNO</th>\n      <td>6268</td>\n      <td>4765</td>\n      <td>20659</td>\n    </tr>\n    <tr>\n      <th>SAN MARTIN</th>\n      <td>8436</td>\n      <td>7404</td>\n      <td>27472</td>\n    </tr>\n    <tr>\n      <th>TACNA</th>\n      <td>5384</td>\n      <td>3990</td>\n      <td>15480</td>\n    </tr>\n    <tr>\n      <th>TUMBES</th>\n      <td>3796</td>\n      <td>3617</td>\n      <td>8891</td>\n    </tr>\n    <tr>\n      <th>UCAYALI</th>\n      <td>6902</td>\n      <td>2358</td>\n      <td>21804</td>\n    </tr>\n  </tbody>\n</table>\n</div>"
     },
     "metadata": {},
     "execution_count": 4
    }
   ],
   "source": [
    "# ACUMULADO POR DEPARTAMENTO\n",
    "df_positivos_departamento=df[['DEPARTAMENTO','METODODX','SEXO']].groupby(['DEPARTAMENTO', 'METODODX']).count()\n",
    "df_positivos_departamento=df_positivos_departamento.reset_index()\n",
    "df_positivos_departamento=df_positivos_departamento.pivot(index='DEPARTAMENTO', columns='METODODX', values='SEXO')\n",
    "df_positivos_departamento"
   ]
  },
  {
   "cell_type": "code",
   "execution_count": 6,
   "metadata": {},
   "outputs": [
    {
     "output_type": "execute_result",
     "data": {
      "text/plain": [
       "               POSITIVOS  POBLACION  PORCENTAJE\n",
       "GRUPO_ETARIO                                   \n",
       "18 a 19 años       34642     900000        3.85\n",
       "20 a 29 años      348473    5700000        6.11\n",
       "30 a 39 años      427067    5300000        8.06\n",
       "40 a 49 años      366094    4400000        8.32\n",
       "50 a 59 años      294182    3300000        8.91\n",
       "60 a 69 años      192063    2300000        8.35\n",
       "70 a 79 años      100489    1300000        7.73\n",
       "80 años a más      49665     700000        7.10"
      ],
      "text/html": "<div>\n<style scoped>\n    .dataframe tbody tr th:only-of-type {\n        vertical-align: middle;\n    }\n\n    .dataframe tbody tr th {\n        vertical-align: top;\n    }\n\n    .dataframe thead th {\n        text-align: right;\n    }\n</style>\n<table border=\"1\" class=\"dataframe\">\n  <thead>\n    <tr style=\"text-align: right;\">\n      <th></th>\n      <th>POSITIVOS</th>\n      <th>POBLACION</th>\n      <th>PORCENTAJE</th>\n    </tr>\n    <tr>\n      <th>GRUPO_ETARIO</th>\n      <th></th>\n      <th></th>\n      <th></th>\n    </tr>\n  </thead>\n  <tbody>\n    <tr>\n      <th>18 a 19 años</th>\n      <td>34642</td>\n      <td>900000</td>\n      <td>3.85</td>\n    </tr>\n    <tr>\n      <th>20 a 29 años</th>\n      <td>348473</td>\n      <td>5700000</td>\n      <td>6.11</td>\n    </tr>\n    <tr>\n      <th>30 a 39 años</th>\n      <td>427067</td>\n      <td>5300000</td>\n      <td>8.06</td>\n    </tr>\n    <tr>\n      <th>40 a 49 años</th>\n      <td>366094</td>\n      <td>4400000</td>\n      <td>8.32</td>\n    </tr>\n    <tr>\n      <th>50 a 59 años</th>\n      <td>294182</td>\n      <td>3300000</td>\n      <td>8.91</td>\n    </tr>\n    <tr>\n      <th>60 a 69 años</th>\n      <td>192063</td>\n      <td>2300000</td>\n      <td>8.35</td>\n    </tr>\n    <tr>\n      <th>70 a 79 años</th>\n      <td>100489</td>\n      <td>1300000</td>\n      <td>7.73</td>\n    </tr>\n    <tr>\n      <th>80 años a más</th>\n      <td>49665</td>\n      <td>700000</td>\n      <td>7.10</td>\n    </tr>\n  </tbody>\n</table>\n</div>"
     },
     "metadata": {},
     "execution_count": 6
    }
   ],
   "source": [
    "# ACUMULADO POR GRUPO ETARIO\n",
    "bins = [18,20,30,40,50,60,70,80,df['EDAD'].max()+1]\n",
    "labels = ['18 a 19 años','20 a 29 años','30 a 39 años','40 a 49 años','50 a 59 años','60 a 69 años','70 a 79 años','80 años a más']\n",
    "poblacion_por_grupo_etario = [900000,5700000,5300000,4400000,3300000,2300000,1300000,700000] \n",
    "df_positivos_edades = df\n",
    "df_positivos_edades['GRUPO_ETARIO'] = pd.cut(df['EDAD'], bins=bins, labels=labels, right=False)\n",
    "df_positivos_edades = df_positivos_edades.groupby(['GRUPO_ETARIO'])[\"METODODX\"].count().reset_index()\n",
    "df_positivos_edades.rename(columns = {'METODODX':'POSITIVOS'}, inplace = True)\n",
    "df_positivos_edades['POBLACION']=poblacion_por_grupo_etario\n",
    "df_positivos_edades['PORCENTAJE']=round(df_positivos_edades['POSITIVOS']/df_positivos_edades['POBLACION']*100,2)\n",
    "df_positivos_edades=df_positivos_edades.set_index('GRUPO_ETARIO')\n",
    "df_positivos_edades"
   ]
  },
  {
   "cell_type": "code",
   "execution_count": 7,
   "metadata": {},
   "outputs": [],
   "source": [
    "df_positivos.to_csv('../resultados/positivos_diarios.csv')\n",
    "df_positivos_cum.to_csv('../resultados/positivos_acumulados.csv')\n",
    "df_positivos_departamento.to_csv('../resultados/positivos_por_departamentos.csv')\n",
    "df_positivos_edades.to_csv('../resultados/positivos_por_edades.csv')"
   ]
  }
 ],
 "metadata": {
  "kernelspec": {
   "name": "python3",
   "display_name": "Python 3",
   "language": "python"
  },
  "language_info": {
   "codemirror_mode": {
    "name": "ipython",
    "version": 3
   },
   "file_extension": ".py",
   "mimetype": "text/x-python",
   "name": "python",
   "nbconvert_exporter": "python",
   "pygments_lexer": "ipython3",
   "version": "3.8.5"
  },
  "metadata": {
   "interpreter": {
    "hash": "0adcc2737ebf6a4a119f135174df96668767fca1ef1112612db5ecadf2b6d608"
   }
  }
 },
 "nbformat": 4,
 "nbformat_minor": 5
}